{
 "cells": [
  {
   "cell_type": "markdown",
   "id": "5b3296d9",
   "metadata": {},
   "source": [
    "# MACHINE LEARNING INTERN - CODSOFT"
   ]
  },
  {
   "cell_type": "markdown",
   "id": "91012e69",
   "metadata": {},
   "source": [
    "# TASK 4 SPAM SMS DETECTION"
   ]
  },
  {
   "cell_type": "markdown",
   "id": "3d8c9baf",
   "metadata": {},
   "source": [
    "OBJECTIVE: \n",
    "\n",
    "Build an AI model that can classify SMS messages as spam or legitimate. Use techniques like TF-IDF or word embeddings with classifiers like  Logistic Regression, Naive Bayes, or Support Vector Machines to identify spam messages"
   ]
  },
  {
   "cell_type": "code",
   "execution_count": 1,
   "id": "3262f48d",
   "metadata": {},
   "outputs": [],
   "source": [
    "import numpy as np\n",
    "import pandas as pd\n",
    "import seaborn as sns\n",
    "import matplotlib.pyplot as plt"
   ]
  },
  {
   "cell_type": "code",
   "execution_count": 2,
   "id": "63c2799b",
   "metadata": {},
   "outputs": [
    {
     "data": {
      "text/html": [
       "<div>\n",
       "<style scoped>\n",
       "    .dataframe tbody tr th:only-of-type {\n",
       "        vertical-align: middle;\n",
       "    }\n",
       "\n",
       "    .dataframe tbody tr th {\n",
       "        vertical-align: top;\n",
       "    }\n",
       "\n",
       "    .dataframe thead th {\n",
       "        text-align: right;\n",
       "    }\n",
       "</style>\n",
       "<table border=\"1\" class=\"dataframe\">\n",
       "  <thead>\n",
       "    <tr style=\"text-align: right;\">\n",
       "      <th></th>\n",
       "      <th>v1</th>\n",
       "      <th>v2</th>\n",
       "      <th>Unnamed: 2</th>\n",
       "      <th>Unnamed: 3</th>\n",
       "      <th>Unnamed: 4</th>\n",
       "    </tr>\n",
       "  </thead>\n",
       "  <tbody>\n",
       "    <tr>\n",
       "      <th>0</th>\n",
       "      <td>ham</td>\n",
       "      <td>Go until jurong point, crazy.. Available only ...</td>\n",
       "      <td>NaN</td>\n",
       "      <td>NaN</td>\n",
       "      <td>NaN</td>\n",
       "    </tr>\n",
       "    <tr>\n",
       "      <th>1</th>\n",
       "      <td>ham</td>\n",
       "      <td>Ok lar... Joking wif u oni...</td>\n",
       "      <td>NaN</td>\n",
       "      <td>NaN</td>\n",
       "      <td>NaN</td>\n",
       "    </tr>\n",
       "    <tr>\n",
       "      <th>2</th>\n",
       "      <td>spam</td>\n",
       "      <td>Free entry in 2 a wkly comp to win FA Cup fina...</td>\n",
       "      <td>NaN</td>\n",
       "      <td>NaN</td>\n",
       "      <td>NaN</td>\n",
       "    </tr>\n",
       "    <tr>\n",
       "      <th>3</th>\n",
       "      <td>ham</td>\n",
       "      <td>U dun say so early hor... U c already then say...</td>\n",
       "      <td>NaN</td>\n",
       "      <td>NaN</td>\n",
       "      <td>NaN</td>\n",
       "    </tr>\n",
       "    <tr>\n",
       "      <th>4</th>\n",
       "      <td>ham</td>\n",
       "      <td>Nah I don't think he goes to usf, he lives aro...</td>\n",
       "      <td>NaN</td>\n",
       "      <td>NaN</td>\n",
       "      <td>NaN</td>\n",
       "    </tr>\n",
       "  </tbody>\n",
       "</table>\n",
       "</div>"
      ],
      "text/plain": [
       "     v1                                                 v2 Unnamed: 2  \\\n",
       "0   ham  Go until jurong point, crazy.. Available only ...        NaN   \n",
       "1   ham                      Ok lar... Joking wif u oni...        NaN   \n",
       "2  spam  Free entry in 2 a wkly comp to win FA Cup fina...        NaN   \n",
       "3   ham  U dun say so early hor... U c already then say...        NaN   \n",
       "4   ham  Nah I don't think he goes to usf, he lives aro...        NaN   \n",
       "\n",
       "  Unnamed: 3 Unnamed: 4  \n",
       "0        NaN        NaN  \n",
       "1        NaN        NaN  \n",
       "2        NaN        NaN  \n",
       "3        NaN        NaN  \n",
       "4        NaN        NaN  "
      ]
     },
     "execution_count": 2,
     "metadata": {},
     "output_type": "execute_result"
    }
   ],
   "source": [
    "ssd = pd.read_csv('spam.csv',encoding = \"latin1\")\n",
    "ssd.head()"
   ]
  },
  {
   "cell_type": "code",
   "execution_count": 3,
   "id": "2ae4152a",
   "metadata": {},
   "outputs": [
    {
     "data": {
      "text/plain": [
       "(5572, 5)"
      ]
     },
     "execution_count": 3,
     "metadata": {},
     "output_type": "execute_result"
    }
   ],
   "source": [
    "# checking size of the Dataset\n",
    "ssd.shape"
   ]
  },
  {
   "cell_type": "code",
   "execution_count": 4,
   "id": "a9276276",
   "metadata": {},
   "outputs": [
    {
     "data": {
      "text/plain": [
       "v1               0\n",
       "v2               0\n",
       "Unnamed: 2    5522\n",
       "Unnamed: 3    5560\n",
       "Unnamed: 4    5566\n",
       "dtype: int64"
      ]
     },
     "execution_count": 4,
     "metadata": {},
     "output_type": "execute_result"
    }
   ],
   "source": [
    "# checking Null values\n",
    "ssd.isnull().sum()"
   ]
  },
  {
   "cell_type": "code",
   "execution_count": 5,
   "id": "7377d352",
   "metadata": {},
   "outputs": [
    {
     "data": {
      "text/plain": [
       "403"
      ]
     },
     "execution_count": 5,
     "metadata": {},
     "output_type": "execute_result"
    }
   ],
   "source": [
    "# Checking duplicate values\n",
    "ssd.duplicated().sum()"
   ]
  },
  {
   "cell_type": "code",
   "execution_count": 6,
   "id": "8e4e67cf",
   "metadata": {},
   "outputs": [
    {
     "data": {
      "text/html": [
       "<div>\n",
       "<style scoped>\n",
       "    .dataframe tbody tr th:only-of-type {\n",
       "        vertical-align: middle;\n",
       "    }\n",
       "\n",
       "    .dataframe tbody tr th {\n",
       "        vertical-align: top;\n",
       "    }\n",
       "\n",
       "    .dataframe thead th {\n",
       "        text-align: right;\n",
       "    }\n",
       "</style>\n",
       "<table border=\"1\" class=\"dataframe\">\n",
       "  <thead>\n",
       "    <tr style=\"text-align: right;\">\n",
       "      <th></th>\n",
       "      <th>v1</th>\n",
       "      <th>v2</th>\n",
       "      <th>Unnamed: 2</th>\n",
       "      <th>Unnamed: 3</th>\n",
       "      <th>Unnamed: 4</th>\n",
       "    </tr>\n",
       "  </thead>\n",
       "  <tbody>\n",
       "    <tr>\n",
       "      <th>count</th>\n",
       "      <td>5572</td>\n",
       "      <td>5572</td>\n",
       "      <td>50</td>\n",
       "      <td>12</td>\n",
       "      <td>6</td>\n",
       "    </tr>\n",
       "    <tr>\n",
       "      <th>unique</th>\n",
       "      <td>2</td>\n",
       "      <td>5169</td>\n",
       "      <td>43</td>\n",
       "      <td>10</td>\n",
       "      <td>5</td>\n",
       "    </tr>\n",
       "    <tr>\n",
       "      <th>top</th>\n",
       "      <td>ham</td>\n",
       "      <td>Sorry, I'll call later</td>\n",
       "      <td>bt not his girlfrnd... G o o d n i g h t . . .@\"</td>\n",
       "      <td>MK17 92H. 450Ppw 16\"</td>\n",
       "      <td>GNT:-)\"</td>\n",
       "    </tr>\n",
       "    <tr>\n",
       "      <th>freq</th>\n",
       "      <td>4825</td>\n",
       "      <td>30</td>\n",
       "      <td>3</td>\n",
       "      <td>2</td>\n",
       "      <td>2</td>\n",
       "    </tr>\n",
       "  </tbody>\n",
       "</table>\n",
       "</div>"
      ],
      "text/plain": [
       "          v1                      v2  \\\n",
       "count   5572                    5572   \n",
       "unique     2                    5169   \n",
       "top      ham  Sorry, I'll call later   \n",
       "freq    4825                      30   \n",
       "\n",
       "                                               Unnamed: 2  \\\n",
       "count                                                  50   \n",
       "unique                                                 43   \n",
       "top      bt not his girlfrnd... G o o d n i g h t . . .@\"   \n",
       "freq                                                    3   \n",
       "\n",
       "                   Unnamed: 3 Unnamed: 4  \n",
       "count                      12          6  \n",
       "unique                     10          5  \n",
       "top      MK17 92H. 450Ppw 16\"    GNT:-)\"  \n",
       "freq                        2          2  "
      ]
     },
     "execution_count": 6,
     "metadata": {},
     "output_type": "execute_result"
    }
   ],
   "source": [
    "# checking descreptive of the dataset \n",
    "ssd.describe()"
   ]
  },
  {
   "cell_type": "code",
   "execution_count": 7,
   "id": "987f1bd4",
   "metadata": {},
   "outputs": [
    {
     "name": "stdout",
     "output_type": "stream",
     "text": [
      "<class 'pandas.core.frame.DataFrame'>\n",
      "RangeIndex: 5572 entries, 0 to 5571\n",
      "Data columns (total 5 columns):\n",
      " #   Column      Non-Null Count  Dtype \n",
      "---  ------      --------------  ----- \n",
      " 0   v1          5572 non-null   object\n",
      " 1   v2          5572 non-null   object\n",
      " 2   Unnamed: 2  50 non-null     object\n",
      " 3   Unnamed: 3  12 non-null     object\n",
      " 4   Unnamed: 4  6 non-null      object\n",
      "dtypes: object(5)\n",
      "memory usage: 217.8+ KB\n"
     ]
    }
   ],
   "source": [
    "# checking information of the dataset\n",
    "ssd.info()"
   ]
  },
  {
   "cell_type": "markdown",
   "id": "06d5a5c1",
   "metadata": {},
   "source": [
    " As we can see more than 99% null values are there in some columns so we are dropping of the columns \n",
    " so it does not disturb in building feature models."
   ]
  },
  {
   "cell_type": "code",
   "execution_count": 8,
   "id": "5dcf3de0",
   "metadata": {},
   "outputs": [],
   "source": [
    "ssd.drop(columns=ssd[['Unnamed: 2','Unnamed: 3','Unnamed: 4']],axis=1,inplace=True)"
   ]
  },
  {
   "cell_type": "code",
   "execution_count": 9,
   "id": "2193475a",
   "metadata": {},
   "outputs": [
    {
     "data": {
      "text/html": [
       "<div>\n",
       "<style scoped>\n",
       "    .dataframe tbody tr th:only-of-type {\n",
       "        vertical-align: middle;\n",
       "    }\n",
       "\n",
       "    .dataframe tbody tr th {\n",
       "        vertical-align: top;\n",
       "    }\n",
       "\n",
       "    .dataframe thead th {\n",
       "        text-align: right;\n",
       "    }\n",
       "</style>\n",
       "<table border=\"1\" class=\"dataframe\">\n",
       "  <thead>\n",
       "    <tr style=\"text-align: right;\">\n",
       "      <th></th>\n",
       "      <th>v1</th>\n",
       "      <th>v2</th>\n",
       "    </tr>\n",
       "  </thead>\n",
       "  <tbody>\n",
       "    <tr>\n",
       "      <th>0</th>\n",
       "      <td>ham</td>\n",
       "      <td>Go until jurong point, crazy.. Available only ...</td>\n",
       "    </tr>\n",
       "    <tr>\n",
       "      <th>1</th>\n",
       "      <td>ham</td>\n",
       "      <td>Ok lar... Joking wif u oni...</td>\n",
       "    </tr>\n",
       "    <tr>\n",
       "      <th>2</th>\n",
       "      <td>spam</td>\n",
       "      <td>Free entry in 2 a wkly comp to win FA Cup fina...</td>\n",
       "    </tr>\n",
       "    <tr>\n",
       "      <th>3</th>\n",
       "      <td>ham</td>\n",
       "      <td>U dun say so early hor... U c already then say...</td>\n",
       "    </tr>\n",
       "    <tr>\n",
       "      <th>4</th>\n",
       "      <td>ham</td>\n",
       "      <td>Nah I don't think he goes to usf, he lives aro...</td>\n",
       "    </tr>\n",
       "  </tbody>\n",
       "</table>\n",
       "</div>"
      ],
      "text/plain": [
       "     v1                                                 v2\n",
       "0   ham  Go until jurong point, crazy.. Available only ...\n",
       "1   ham                      Ok lar... Joking wif u oni...\n",
       "2  spam  Free entry in 2 a wkly comp to win FA Cup fina...\n",
       "3   ham  U dun say so early hor... U c already then say...\n",
       "4   ham  Nah I don't think he goes to usf, he lives aro..."
      ]
     },
     "execution_count": 9,
     "metadata": {},
     "output_type": "execute_result"
    }
   ],
   "source": [
    "ssd.head()"
   ]
  },
  {
   "cell_type": "code",
   "execution_count": 10,
   "id": "efef0d04",
   "metadata": {},
   "outputs": [
    {
     "data": {
      "text/plain": [
       "(5572, 2)"
      ]
     },
     "execution_count": 10,
     "metadata": {},
     "output_type": "execute_result"
    }
   ],
   "source": [
    "ssd.shape"
   ]
  },
  {
   "cell_type": "code",
   "execution_count": 11,
   "id": "38b42c0e",
   "metadata": {},
   "outputs": [],
   "source": [
    "# Rename columns names for easy to understand, we can also use df.rename\n",
    "ssd.columns=['spam/ham','sms']"
   ]
  },
  {
   "cell_type": "code",
   "execution_count": 12,
   "id": "54dc6283",
   "metadata": {},
   "outputs": [],
   "source": [
    "# Convert the text data into numerical form\n",
    "ssd.loc[ssd['spam/ham'] == 'spam', 'spam/ham',] = 0\n",
    "ssd.loc[ssd['spam/ham'] == 'ham', 'spam/ham',] = 1"
   ]
  },
  {
   "cell_type": "markdown",
   "id": "309ec7de",
   "metadata": {},
   "source": [
    "# Separating Input Features and Target Column:"
   ]
  },
  {
   "cell_type": "code",
   "execution_count": 13,
   "id": "e89a2668",
   "metadata": {},
   "outputs": [
    {
     "data": {
      "text/plain": [
       "0    Go until jurong point, crazy.. Available only ...\n",
       "1                        Ok lar... Joking wif u oni...\n",
       "2    Free entry in 2 a wkly comp to win FA Cup fina...\n",
       "3    U dun say so early hor... U c already then say...\n",
       "4    Nah I don't think he goes to usf, he lives aro...\n",
       "Name: sms, dtype: object"
      ]
     },
     "execution_count": 13,
     "metadata": {},
     "output_type": "execute_result"
    }
   ],
   "source": [
    "x = ssd.sms\n",
    "x.head()"
   ]
  },
  {
   "cell_type": "code",
   "execution_count": 14,
   "id": "06e5f5f0",
   "metadata": {},
   "outputs": [
    {
     "data": {
      "text/plain": [
       "0    1\n",
       "1    1\n",
       "2    0\n",
       "3    1\n",
       "4    1\n",
       "Name: spam/ham, dtype: object"
      ]
     },
     "execution_count": 14,
     "metadata": {},
     "output_type": "execute_result"
    }
   ],
   "source": [
    "y = ssd['spam/ham']\n",
    "y.head()"
   ]
  },
  {
   "cell_type": "code",
   "execution_count": 15,
   "id": "c3012bb0",
   "metadata": {},
   "outputs": [],
   "source": [
    "# Divide the whole dataset into training and testing set for model training\n",
    "from sklearn.model_selection import train_test_split"
   ]
  },
  {
   "cell_type": "code",
   "execution_count": 16,
   "id": "31d13e61",
   "metadata": {},
   "outputs": [],
   "source": [
    "x_train, x_test, y_train, y_test = train_test_split(x,y,test_size=0.3,random_state=42)"
   ]
  },
  {
   "cell_type": "code",
   "execution_count": 17,
   "id": "714f4a67",
   "metadata": {},
   "outputs": [
    {
     "name": "stdout",
     "output_type": "stream",
     "text": [
      "(3900,)\n",
      "(1672,)\n",
      "(3900,)\n",
      "(1672,)\n"
     ]
    }
   ],
   "source": [
    "print(x_train.shape)\n",
    "print(x_test.shape)\n",
    "print(y_train.shape)\n",
    "print(y_test.shape)"
   ]
  },
  {
   "cell_type": "code",
   "execution_count": 18,
   "id": "75a242da",
   "metadata": {},
   "outputs": [
    {
     "data": {
      "text/plain": [
       "708     To review and KEEP the fantastic Nokia N-Gage ...\n",
       "4338                   Just got outta class gonna go gym.\n",
       "5029    Is there coming friday is leave for pongal?do ...\n",
       "4921    Hi Dear Call me its urgnt. I don't know whats ...\n",
       "2592    My friend just got here and says he's upping h...\n",
       "                              ...                        \n",
       "3772    I came hostel. I m going to sleep. Plz call me...\n",
       "5191                               Sorry, I'll call later\n",
       "5226        Prabha..i'm soryda..realy..frm heart i'm sory\n",
       "5390                           Nt joking seriously i told\n",
       "860                   In work now. Going have in few min.\n",
       "Name: sms, Length: 3900, dtype: object"
      ]
     },
     "execution_count": 18,
     "metadata": {},
     "output_type": "execute_result"
    }
   ],
   "source": [
    "x_train"
   ]
  },
  {
   "cell_type": "code",
   "execution_count": 19,
   "id": "c6e6e5ea",
   "metadata": {},
   "outputs": [
    {
     "data": {
      "text/plain": [
       "3245    Funny fact Nobody teaches volcanoes 2 erupt, t...\n",
       "944     I sent my scores to sophas and i had to do sec...\n",
       "1044    We know someone who you know that fancies you....\n",
       "2484    Only if you promise your getting out as SOON a...\n",
       "812     Congratulations ur awarded either å£500 of CD ...\n",
       "                              ...                        \n",
       "2505                 Congrats kano..whr s the treat maga?\n",
       "2525    Say this slowly.? GOD,I LOVE YOU &amp; I NEED ...\n",
       "4975    You are gorgeous! keep those pix cumming :) th...\n",
       "650     Thats cool! Sometimes slow and gentle. Sonetim...\n",
       "4463         Ranjith cal drpd Deeraj and deepak 5min hold\n",
       "Name: sms, Length: 1672, dtype: object"
      ]
     },
     "execution_count": 19,
     "metadata": {},
     "output_type": "execute_result"
    }
   ],
   "source": [
    "x_test"
   ]
  },
  {
   "cell_type": "code",
   "execution_count": 20,
   "id": "df24217e",
   "metadata": {},
   "outputs": [
    {
     "data": {
      "text/plain": [
       "708     0\n",
       "4338    1\n",
       "5029    1\n",
       "4921    1\n",
       "2592    1\n",
       "       ..\n",
       "3772    1\n",
       "5191    1\n",
       "5226    1\n",
       "5390    1\n",
       "860     1\n",
       "Name: spam/ham, Length: 3900, dtype: object"
      ]
     },
     "execution_count": 20,
     "metadata": {},
     "output_type": "execute_result"
    }
   ],
   "source": [
    "y_train"
   ]
  },
  {
   "cell_type": "code",
   "execution_count": 21,
   "id": "62172d37",
   "metadata": {},
   "outputs": [
    {
     "data": {
      "text/plain": [
       "3245    1\n",
       "944     1\n",
       "1044    0\n",
       "2484    1\n",
       "812     0\n",
       "       ..\n",
       "2505    1\n",
       "2525    1\n",
       "4975    1\n",
       "650     1\n",
       "4463    1\n",
       "Name: spam/ham, Length: 1672, dtype: object"
      ]
     },
     "execution_count": 21,
     "metadata": {},
     "output_type": "execute_result"
    }
   ],
   "source": [
    "y_test"
   ]
  },
  {
   "cell_type": "markdown",
   "id": "d93932d4",
   "metadata": {},
   "source": [
    "# Text to Vector Conversion:"
   ]
  },
  {
   "cell_type": "markdown",
   "id": "1b1789ce",
   "metadata": {},
   "source": [
    "Observation:\n",
    "As we know that,machine learning algorithms only performs well with respect to numbers,so we need to convert all the text data into numbers.To do so I will use TfidfVectorizer techinque from feature_extraction of sklearn."
   ]
  },
  {
   "cell_type": "code",
   "execution_count": 22,
   "id": "1e8e0e3e",
   "metadata": {},
   "outputs": [],
   "source": [
    "from sklearn.feature_extraction.text import TfidfVectorizer"
   ]
  },
  {
   "cell_type": "code",
   "execution_count": 23,
   "id": "05da44a3",
   "metadata": {},
   "outputs": [
    {
     "data": {
      "text/html": [
       "<style>#sk-container-id-1 {color: black;}#sk-container-id-1 pre{padding: 0;}#sk-container-id-1 div.sk-toggleable {background-color: white;}#sk-container-id-1 label.sk-toggleable__label {cursor: pointer;display: block;width: 100%;margin-bottom: 0;padding: 0.3em;box-sizing: border-box;text-align: center;}#sk-container-id-1 label.sk-toggleable__label-arrow:before {content: \"▸\";float: left;margin-right: 0.25em;color: #696969;}#sk-container-id-1 label.sk-toggleable__label-arrow:hover:before {color: black;}#sk-container-id-1 div.sk-estimator:hover label.sk-toggleable__label-arrow:before {color: black;}#sk-container-id-1 div.sk-toggleable__content {max-height: 0;max-width: 0;overflow: hidden;text-align: left;background-color: #f0f8ff;}#sk-container-id-1 div.sk-toggleable__content pre {margin: 0.2em;color: black;border-radius: 0.25em;background-color: #f0f8ff;}#sk-container-id-1 input.sk-toggleable__control:checked~div.sk-toggleable__content {max-height: 200px;max-width: 100%;overflow: auto;}#sk-container-id-1 input.sk-toggleable__control:checked~label.sk-toggleable__label-arrow:before {content: \"▾\";}#sk-container-id-1 div.sk-estimator input.sk-toggleable__control:checked~label.sk-toggleable__label {background-color: #d4ebff;}#sk-container-id-1 div.sk-label input.sk-toggleable__control:checked~label.sk-toggleable__label {background-color: #d4ebff;}#sk-container-id-1 input.sk-hidden--visually {border: 0;clip: rect(1px 1px 1px 1px);clip: rect(1px, 1px, 1px, 1px);height: 1px;margin: -1px;overflow: hidden;padding: 0;position: absolute;width: 1px;}#sk-container-id-1 div.sk-estimator {font-family: monospace;background-color: #f0f8ff;border: 1px dotted black;border-radius: 0.25em;box-sizing: border-box;margin-bottom: 0.5em;}#sk-container-id-1 div.sk-estimator:hover {background-color: #d4ebff;}#sk-container-id-1 div.sk-parallel-item::after {content: \"\";width: 100%;border-bottom: 1px solid gray;flex-grow: 1;}#sk-container-id-1 div.sk-label:hover label.sk-toggleable__label {background-color: #d4ebff;}#sk-container-id-1 div.sk-serial::before {content: \"\";position: absolute;border-left: 1px solid gray;box-sizing: border-box;top: 0;bottom: 0;left: 50%;z-index: 0;}#sk-container-id-1 div.sk-serial {display: flex;flex-direction: column;align-items: center;background-color: white;padding-right: 0.2em;padding-left: 0.2em;position: relative;}#sk-container-id-1 div.sk-item {position: relative;z-index: 1;}#sk-container-id-1 div.sk-parallel {display: flex;align-items: stretch;justify-content: center;background-color: white;position: relative;}#sk-container-id-1 div.sk-item::before, #sk-container-id-1 div.sk-parallel-item::before {content: \"\";position: absolute;border-left: 1px solid gray;box-sizing: border-box;top: 0;bottom: 0;left: 50%;z-index: -1;}#sk-container-id-1 div.sk-parallel-item {display: flex;flex-direction: column;z-index: 1;position: relative;background-color: white;}#sk-container-id-1 div.sk-parallel-item:first-child::after {align-self: flex-end;width: 50%;}#sk-container-id-1 div.sk-parallel-item:last-child::after {align-self: flex-start;width: 50%;}#sk-container-id-1 div.sk-parallel-item:only-child::after {width: 0;}#sk-container-id-1 div.sk-dashed-wrapped {border: 1px dashed gray;margin: 0 0.4em 0.5em 0.4em;box-sizing: border-box;padding-bottom: 0.4em;background-color: white;}#sk-container-id-1 div.sk-label label {font-family: monospace;font-weight: bold;display: inline-block;line-height: 1.2em;}#sk-container-id-1 div.sk-label-container {text-align: center;}#sk-container-id-1 div.sk-container {/* jupyter's `normalize.less` sets `[hidden] { display: none; }` but bootstrap.min.css set `[hidden] { display: none !important; }` so we also need the `!important` here to be able to override the default hidden behavior on the sphinx rendered scikit-learn.org. See: https://github.com/scikit-learn/scikit-learn/issues/21755 */display: inline-block !important;position: relative;}#sk-container-id-1 div.sk-text-repr-fallback {display: none;}</style><div id=\"sk-container-id-1\" class=\"sk-top-container\"><div class=\"sk-text-repr-fallback\"><pre>TfidfVectorizer(stop_words=&#x27;english&#x27;)</pre><b>In a Jupyter environment, please rerun this cell to show the HTML representation or trust the notebook. <br />On GitHub, the HTML representation is unable to render, please try loading this page with nbviewer.org.</b></div><div class=\"sk-container\" hidden><div class=\"sk-item\"><div class=\"sk-estimator sk-toggleable\"><input class=\"sk-toggleable__control sk-hidden--visually\" id=\"sk-estimator-id-1\" type=\"checkbox\" checked><label for=\"sk-estimator-id-1\" class=\"sk-toggleable__label sk-toggleable__label-arrow\">TfidfVectorizer</label><div class=\"sk-toggleable__content\"><pre>TfidfVectorizer(stop_words=&#x27;english&#x27;)</pre></div></div></div></div></div>"
      ],
      "text/plain": [
       "TfidfVectorizer(stop_words='english')"
      ]
     },
     "execution_count": 23,
     "metadata": {},
     "output_type": "execute_result"
    }
   ],
   "source": [
    "feat_vect = TfidfVectorizer(min_df=1, stop_words='english', lowercase=True)\n",
    "feat_vect"
   ]
  },
  {
   "cell_type": "code",
   "execution_count": 24,
   "id": "2df0fd69",
   "metadata": {},
   "outputs": [],
   "source": [
    "y_train = y_train.astype('int')\n",
    "y_test = y_test.astype('int')"
   ]
  },
  {
   "cell_type": "code",
   "execution_count": 25,
   "id": "3255502e",
   "metadata": {},
   "outputs": [
    {
     "data": {
      "text/plain": [
       "<3900x6946 sparse matrix of type '<class 'numpy.float64'>'\n",
       "\twith 30413 stored elements in Compressed Sparse Row format>"
      ]
     },
     "execution_count": 25,
     "metadata": {},
     "output_type": "execute_result"
    }
   ],
   "source": [
    "x_train_vec = feat_vect.fit_transform(x_train)\n",
    "x_train_vec"
   ]
  },
  {
   "cell_type": "code",
   "execution_count": 26,
   "id": "6de0df6e",
   "metadata": {},
   "outputs": [
    {
     "name": "stdout",
     "output_type": "stream",
     "text": [
      "  (0, 6784)\t0.2036674061100652\n",
      "  (0, 5127)\t0.16069009765718537\n",
      "  (0, 832)\t0.2942029533221057\n",
      "  (0, 6425)\t0.2299888748870684\n",
      "  (0, 4294)\t0.2942029533221057\n",
      "  (0, 1730)\t0.1830967933231891\n",
      "  (0, 1701)\t0.2942029533221057\n",
      "  (0, 6835)\t0.1703267398384584\n",
      "  (0, 1687)\t0.23571983525661494\n",
      "  (0, 2013)\t0.2942029533221057\n",
      "  (0, 2795)\t0.2274465254896455\n",
      "  (0, 2788)\t0.2942029533221057\n",
      "  (0, 4325)\t0.3863819557282538\n",
      "  (0, 2533)\t0.24260404766807295\n",
      "  (0, 5179)\t0.26276866734255794\n",
      "  (1, 2988)\t0.48547999128245667\n",
      "  (1, 2895)\t0.38594294491815584\n",
      "  (1, 1661)\t0.40369967264325335\n",
      "  (1, 4507)\t0.5411887811303221\n",
      "  (1, 2914)\t0.29947657175915554\n",
      "  (1, 3510)\t0.2642201388730181\n",
      "  (2, 4689)\t0.33702897982631685\n",
      "  (2, 6786)\t0.3126942228233435\n",
      "  (2, 4293)\t0.4056944099354124\n",
      "  (2, 4758)\t0.46869821034881815\n",
      "  :\t:\n",
      "  (3894, 5333)\t0.3355206697396443\n",
      "  (3894, 4373)\t0.34776563110407227\n",
      "  (3895, 3201)\t0.49796356031820593\n",
      "  (3895, 3180)\t0.444758353553002\n",
      "  (3895, 4724)\t0.377219004761111\n",
      "  (3895, 1471)\t0.3587277158940319\n",
      "  (3895, 2887)\t0.25738889105042473\n",
      "  (3895, 5574)\t0.3269921871017056\n",
      "  (3895, 1661)\t0.3317674127680459\n",
      "  (3896, 3636)\t0.6145765857268356\n",
      "  (3896, 3748)\t0.5244228035073747\n",
      "  (3896, 5670)\t0.5893015725736789\n",
      "  (3897, 5675)\t0.45663774913845756\n",
      "  (3897, 5676)\t0.45663774913845756\n",
      "  (3897, 5030)\t0.407848022749274\n",
      "  (3897, 2748)\t0.36586503902638073\n",
      "  (3897, 4805)\t0.4350479512753978\n",
      "  (3897, 3066)\t0.30577765741194707\n",
      "  (3898, 3479)\t0.5681266511977989\n",
      "  (3898, 5406)\t0.5389037055300323\n",
      "  (3898, 6225)\t0.4039979584692752\n",
      "  (3898, 4362)\t0.4728642024063912\n",
      "  (3899, 2887)\t0.5121926770065168\n",
      "  (3899, 4045)\t0.6237063514828689\n",
      "  (3899, 6786)\t0.5904651122130975\n"
     ]
    }
   ],
   "source": [
    "print(x_train_vec)"
   ]
  },
  {
   "cell_type": "code",
   "execution_count": 27,
   "id": "c82ce74d",
   "metadata": {},
   "outputs": [
    {
     "data": {
      "text/plain": [
       "<1672x6946 sparse matrix of type '<class 'numpy.float64'>'\n",
       "\twith 11442 stored elements in Compressed Sparse Row format>"
      ]
     },
     "execution_count": 27,
     "metadata": {},
     "output_type": "execute_result"
    }
   ],
   "source": [
    "x_test_vec = feat_vect.transform(x_test)\n",
    "x_test_vec"
   ]
  },
  {
   "cell_type": "code",
   "execution_count": 28,
   "id": "4254d985",
   "metadata": {},
   "outputs": [
    {
     "name": "stdout",
     "output_type": "stream",
     "text": [
      "  (0, 6720)\t0.3047058203677519\n",
      "  (0, 6332)\t0.39828278711386805\n",
      "  (0, 4244)\t0.37945200739329527\n",
      "  (0, 3510)\t0.17367416497787852\n",
      "  (0, 3234)\t0.3472605768360241\n",
      "  (0, 3028)\t0.3472605768360241\n",
      "  (0, 2781)\t0.3401014466481085\n",
      "  (0, 2503)\t0.3472605768360241\n",
      "  (0, 1638)\t0.31135176945323223\n",
      "  (1, 6136)\t0.2724042527070941\n",
      "  (1, 6133)\t0.1950483936798134\n",
      "  (1, 5399)\t0.220101857716323\n",
      "  (1, 5336)\t0.3523559459587206\n",
      "  (1, 5332)\t0.3523559459587206\n",
      "  (1, 5331)\t0.2557448905246011\n",
      "  (1, 5139)\t0.3356965837762275\n",
      "  (1, 4442)\t0.30088362046477946\n",
      "  (1, 3475)\t0.32387657820103527\n",
      "  (1, 2477)\t0.32387657820103527\n",
      "  (1, 1840)\t0.2485812254740083\n",
      "  (1, 1805)\t0.2253541529012992\n",
      "  (2, 4728)\t0.4021320697253737\n",
      "  (2, 3828)\t0.5083401006088638\n",
      "  (2, 3581)\t0.4886099291402999\n",
      "  (2, 2529)\t0.48430581952163576\n",
      "  :\t:\n",
      "  (1668, 4717)\t0.3776751165484962\n",
      "  (1668, 4614)\t0.21959656170278494\n",
      "  (1668, 4265)\t0.1729987063210788\n",
      "  (1668, 4063)\t0.29289917468482934\n",
      "  (1668, 3809)\t0.1695055149823706\n",
      "  (1668, 3066)\t0.21959656170278494\n",
      "  (1668, 2880)\t0.2329157174406032\n",
      "  (1668, 1667)\t0.29289917468482934\n",
      "  (1668, 1267)\t0.2800325654730094\n",
      "  (1668, 862)\t0.41281990567988536\n",
      "  (1669, 6103)\t0.4820513174836446\n",
      "  (1669, 4685)\t0.6195266448314724\n",
      "  (1669, 2911)\t0.6195266448314724\n",
      "  (1670, 6111)\t0.37622827613863\n",
      "  (1670, 5593)\t0.46953770431593916\n",
      "  (1670, 3033)\t0.44055753291323385\n",
      "  (1670, 2833)\t0.5498617761643667\n",
      "  (1670, 1826)\t0.37622827613863\n",
      "  (1671, 4995)\t0.38208284210104243\n",
      "  (1671, 3138)\t0.32132263472749195\n",
      "  (1671, 2249)\t0.4010441802793321\n",
      "  (1671, 2023)\t0.4010441802793321\n",
      "  (1671, 2021)\t0.4010441802793321\n",
      "  (1671, 1446)\t0.34966822038612294\n",
      "  (1671, 508)\t0.38208284210104243\n"
     ]
    }
   ],
   "source": [
    "print(x_test_vec)"
   ]
  },
  {
   "cell_type": "code",
   "execution_count": 29,
   "id": "53e196e3",
   "metadata": {},
   "outputs": [
    {
     "name": "stdout",
     "output_type": "stream",
     "text": [
      "708     To review and KEEP the fantastic Nokia N-Gage ...\n",
      "4338                   Just got outta class gonna go gym.\n",
      "5029    Is there coming friday is leave for pongal?do ...\n",
      "4921    Hi Dear Call me its urgnt. I don't know whats ...\n",
      "2592    My friend just got here and says he's upping h...\n",
      "                              ...                        \n",
      "3772    I came hostel. I m going to sleep. Plz call me...\n",
      "5191                               Sorry, I'll call later\n",
      "5226        Prabha..i'm soryda..realy..frm heart i'm sory\n",
      "5390                           Nt joking seriously i told\n",
      "860                   In work now. Going have in few min.\n",
      "Name: sms, Length: 3900, dtype: object\n"
     ]
    }
   ],
   "source": [
    "print(x_train)"
   ]
  },
  {
   "cell_type": "markdown",
   "id": "4102d7ee",
   "metadata": {},
   "source": [
    "# Logistic Regression Algorithm:"
   ]
  },
  {
   "cell_type": "code",
   "execution_count": 30,
   "id": "aa1d8356",
   "metadata": {},
   "outputs": [],
   "source": [
    "from sklearn.linear_model import LogisticRegression"
   ]
  },
  {
   "cell_type": "code",
   "execution_count": 31,
   "id": "e1f7d783",
   "metadata": {},
   "outputs": [
    {
     "data": {
      "text/html": [
       "<style>#sk-container-id-2 {color: black;}#sk-container-id-2 pre{padding: 0;}#sk-container-id-2 div.sk-toggleable {background-color: white;}#sk-container-id-2 label.sk-toggleable__label {cursor: pointer;display: block;width: 100%;margin-bottom: 0;padding: 0.3em;box-sizing: border-box;text-align: center;}#sk-container-id-2 label.sk-toggleable__label-arrow:before {content: \"▸\";float: left;margin-right: 0.25em;color: #696969;}#sk-container-id-2 label.sk-toggleable__label-arrow:hover:before {color: black;}#sk-container-id-2 div.sk-estimator:hover label.sk-toggleable__label-arrow:before {color: black;}#sk-container-id-2 div.sk-toggleable__content {max-height: 0;max-width: 0;overflow: hidden;text-align: left;background-color: #f0f8ff;}#sk-container-id-2 div.sk-toggleable__content pre {margin: 0.2em;color: black;border-radius: 0.25em;background-color: #f0f8ff;}#sk-container-id-2 input.sk-toggleable__control:checked~div.sk-toggleable__content {max-height: 200px;max-width: 100%;overflow: auto;}#sk-container-id-2 input.sk-toggleable__control:checked~label.sk-toggleable__label-arrow:before {content: \"▾\";}#sk-container-id-2 div.sk-estimator input.sk-toggleable__control:checked~label.sk-toggleable__label {background-color: #d4ebff;}#sk-container-id-2 div.sk-label input.sk-toggleable__control:checked~label.sk-toggleable__label {background-color: #d4ebff;}#sk-container-id-2 input.sk-hidden--visually {border: 0;clip: rect(1px 1px 1px 1px);clip: rect(1px, 1px, 1px, 1px);height: 1px;margin: -1px;overflow: hidden;padding: 0;position: absolute;width: 1px;}#sk-container-id-2 div.sk-estimator {font-family: monospace;background-color: #f0f8ff;border: 1px dotted black;border-radius: 0.25em;box-sizing: border-box;margin-bottom: 0.5em;}#sk-container-id-2 div.sk-estimator:hover {background-color: #d4ebff;}#sk-container-id-2 div.sk-parallel-item::after {content: \"\";width: 100%;border-bottom: 1px solid gray;flex-grow: 1;}#sk-container-id-2 div.sk-label:hover label.sk-toggleable__label {background-color: #d4ebff;}#sk-container-id-2 div.sk-serial::before {content: \"\";position: absolute;border-left: 1px solid gray;box-sizing: border-box;top: 0;bottom: 0;left: 50%;z-index: 0;}#sk-container-id-2 div.sk-serial {display: flex;flex-direction: column;align-items: center;background-color: white;padding-right: 0.2em;padding-left: 0.2em;position: relative;}#sk-container-id-2 div.sk-item {position: relative;z-index: 1;}#sk-container-id-2 div.sk-parallel {display: flex;align-items: stretch;justify-content: center;background-color: white;position: relative;}#sk-container-id-2 div.sk-item::before, #sk-container-id-2 div.sk-parallel-item::before {content: \"\";position: absolute;border-left: 1px solid gray;box-sizing: border-box;top: 0;bottom: 0;left: 50%;z-index: -1;}#sk-container-id-2 div.sk-parallel-item {display: flex;flex-direction: column;z-index: 1;position: relative;background-color: white;}#sk-container-id-2 div.sk-parallel-item:first-child::after {align-self: flex-end;width: 50%;}#sk-container-id-2 div.sk-parallel-item:last-child::after {align-self: flex-start;width: 50%;}#sk-container-id-2 div.sk-parallel-item:only-child::after {width: 0;}#sk-container-id-2 div.sk-dashed-wrapped {border: 1px dashed gray;margin: 0 0.4em 0.5em 0.4em;box-sizing: border-box;padding-bottom: 0.4em;background-color: white;}#sk-container-id-2 div.sk-label label {font-family: monospace;font-weight: bold;display: inline-block;line-height: 1.2em;}#sk-container-id-2 div.sk-label-container {text-align: center;}#sk-container-id-2 div.sk-container {/* jupyter's `normalize.less` sets `[hidden] { display: none; }` but bootstrap.min.css set `[hidden] { display: none !important; }` so we also need the `!important` here to be able to override the default hidden behavior on the sphinx rendered scikit-learn.org. See: https://github.com/scikit-learn/scikit-learn/issues/21755 */display: inline-block !important;position: relative;}#sk-container-id-2 div.sk-text-repr-fallback {display: none;}</style><div id=\"sk-container-id-2\" class=\"sk-top-container\"><div class=\"sk-text-repr-fallback\"><pre>LogisticRegression()</pre><b>In a Jupyter environment, please rerun this cell to show the HTML representation or trust the notebook. <br />On GitHub, the HTML representation is unable to render, please try loading this page with nbviewer.org.</b></div><div class=\"sk-container\" hidden><div class=\"sk-item\"><div class=\"sk-estimator sk-toggleable\"><input class=\"sk-toggleable__control sk-hidden--visually\" id=\"sk-estimator-id-2\" type=\"checkbox\" checked><label for=\"sk-estimator-id-2\" class=\"sk-toggleable__label sk-toggleable__label-arrow\">LogisticRegression</label><div class=\"sk-toggleable__content\"><pre>LogisticRegression()</pre></div></div></div></div></div>"
      ],
      "text/plain": [
       "LogisticRegression()"
      ]
     },
     "execution_count": 31,
     "metadata": {},
     "output_type": "execute_result"
    }
   ],
   "source": [
    "log_reg = LogisticRegression()\n",
    "log_reg.fit(x_train_vec,y_train)"
   ]
  },
  {
   "cell_type": "code",
   "execution_count": 32,
   "id": "35e85ea0",
   "metadata": {},
   "outputs": [
    {
     "data": {
      "text/plain": [
       "0.9669230769230769"
      ]
     },
     "execution_count": 32,
     "metadata": {},
     "output_type": "execute_result"
    }
   ],
   "source": [
    "log_reg.score(x_train_vec,y_train)"
   ]
  },
  {
   "cell_type": "code",
   "execution_count": 33,
   "id": "f6338ccc",
   "metadata": {},
   "outputs": [
    {
     "data": {
      "text/plain": [
       "0.9527511961722488"
      ]
     },
     "execution_count": 33,
     "metadata": {},
     "output_type": "execute_result"
    }
   ],
   "source": [
    "log_reg.score(x_test_vec,y_test)"
   ]
  },
  {
   "cell_type": "code",
   "execution_count": 34,
   "id": "7158b4a4",
   "metadata": {},
   "outputs": [
    {
     "data": {
      "text/plain": [
       "array([1, 1, 1, ..., 1, 1, 1])"
      ]
     },
     "execution_count": 34,
     "metadata": {},
     "output_type": "execute_result"
    }
   ],
   "source": [
    "pred_log_reg=log_reg.predict(x_test_vec)\n",
    "pred_log_reg"
   ]
  },
  {
   "cell_type": "code",
   "execution_count": 35,
   "id": "f7d32c76",
   "metadata": {},
   "outputs": [],
   "source": [
    "# Evaluation metrics:\n",
    "from sklearn.metrics import confusion_matrix,classification_report,accuracy_score,f1_score,recall_score,precision_score"
   ]
  },
  {
   "cell_type": "code",
   "execution_count": 36,
   "id": "285e353b",
   "metadata": {},
   "outputs": [
    {
     "data": {
      "text/plain": [
       "0.9527511961722488"
      ]
     },
     "execution_count": 36,
     "metadata": {},
     "output_type": "execute_result"
    }
   ],
   "source": [
    "accuracy_score(y_test,pred_log_reg)"
   ]
  },
  {
   "cell_type": "code",
   "execution_count": 37,
   "id": "c8433555",
   "metadata": {},
   "outputs": [
    {
     "data": {
      "text/plain": [
       "array([[ 143,   76],\n",
       "       [   3, 1450]], dtype=int64)"
      ]
     },
     "execution_count": 37,
     "metadata": {},
     "output_type": "execute_result"
    }
   ],
   "source": [
    "confusion_matrix(y_test,pred_log_reg)"
   ]
  },
  {
   "cell_type": "code",
   "execution_count": 38,
   "id": "131b6967",
   "metadata": {},
   "outputs": [
    {
     "name": "stdout",
     "output_type": "stream",
     "text": [
      "              precision    recall  f1-score   support\n",
      "\n",
      "           0       0.98      0.65      0.78       219\n",
      "           1       0.95      1.00      0.97      1453\n",
      "\n",
      "    accuracy                           0.95      1672\n",
      "   macro avg       0.96      0.83      0.88      1672\n",
      "weighted avg       0.95      0.95      0.95      1672\n",
      "\n"
     ]
    }
   ],
   "source": [
    "print(classification_report(y_test,pred_log_reg))"
   ]
  },
  {
   "cell_type": "markdown",
   "id": "341cbd68",
   "metadata": {},
   "source": [
    "Concluding Remarks:\n",
    "\n",
    "\n",
    "1. Proper data tagging is crucial for training models effectively and making accurate predictions based on new data.\n",
    "   \n",
    "2. Incorrectly labeled data can significantly impact the performance of machine learning models, potentially leading to misleading outcomes.\n",
    "\n",
    "3. When encountering suspicious emails in your inbox, such as potential spam, consider reporting them accurately to help improve email filtering systems.\n",
    "\n",
    "4. Reporting spam emails not only helps you but also benefits other users who might receive similar emails in the future.\n",
    "\n",
    "5. Exercise caution when labeling emails as spam to avoid mistakenly classifying genuine emails as spam, which could lead to important messages being overlooked.\n",
    "\n",
    "6. Being mindful and accurate in your email tagging decisions can enhance the efficiency of spam filters and improve email categorization for all users."
   ]
  },
  {
   "cell_type": "code",
   "execution_count": null,
   "id": "bf832445",
   "metadata": {},
   "outputs": [],
   "source": []
  }
 ],
 "metadata": {
  "kernelspec": {
   "display_name": "Python 3 (ipykernel)",
   "language": "python",
   "name": "python3"
  },
  "language_info": {
   "codemirror_mode": {
    "name": "ipython",
    "version": 3
   },
   "file_extension": ".py",
   "mimetype": "text/x-python",
   "name": "python",
   "nbconvert_exporter": "python",
   "pygments_lexer": "ipython3",
   "version": "3.11.5"
  }
 },
 "nbformat": 4,
 "nbformat_minor": 5
}
